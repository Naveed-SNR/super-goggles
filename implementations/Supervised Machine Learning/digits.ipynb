{
 "cells": [
  {
   "cell_type": "markdown",
   "metadata": {},
   "source": [
    "# Decision Tree Vs. Random Forest Classifier (Handwritten Digit Recognition)"
   ]
  },
  {
   "cell_type": "markdown",
   "metadata": {},
   "source": [
    "## Imports"
   ]
  },
  {
   "cell_type": "code",
   "execution_count": 92,
   "metadata": {},
   "outputs": [],
   "source": [
    "import pandas as pd\n",
    "import numpy as np\n",
    "import matplotlib.pyplot as plt\n",
    "import seaborn as sns"
   ]
  },
  {
   "cell_type": "markdown",
   "metadata": {},
   "source": [
    "## Data Loading"
   ]
  },
  {
   "cell_type": "code",
   "execution_count": 93,
   "metadata": {},
   "outputs": [],
   "source": [
    "\n",
    "\n",
    "def load_data_pd(file_path):\n",
    "    # Load the file into a pandas DataFrame\n",
    "    data = pd.read_csv(file_path, header=None)\n",
    "\n",
    "    # The last column is the label, the rest are features\n",
    "    features = data.iloc[:, :-1].values\n",
    "    labels = data.iloc[:, -1].values.astype(int)\n",
    "    \n",
    "    return features, labels\n",
    "\n",
    "# Load training and testing data\n",
    "train_features, train_labels = load_data_pd('E:\\\\DATA\\\\Studies\\\\Projects\\\\Code\\\\AI-ML\\\\test\\\\datasets\\\\MNIST\\\\optdigits.tes')\n",
    "test_features, test_labels = load_data_pd('E:\\\\DATA\\\\Studies\\\\Projects\\\\Code\\\\AI-ML\\\\test\\\\datasets\\\\MNIST\\\\optdigits.tra')"
   ]
  },
  {
   "cell_type": "markdown",
   "metadata": {},
   "source": [
    "## Visualize Digits"
   ]
  },
  {
   "cell_type": "code",
   "execution_count": 94,
   "metadata": {},
   "outputs": [
    {
     "data": {
      "image/png": "[encoded data removed]",
      "text/plain": [
       "<Figure size 100x100 with 1 Axes>"
      ]
     },
     "metadata": {},
     "output_type": "display_data"
    }
   ],
   "source": [
    "plt.figure(figsize=(1, 1), facecolor=\"beige\")\n",
    "plt.imshow(train_features[0].reshape(8,8), cmap='flare')  # Use original features\n",
    "plt.title(f\"Label: {train_labels[0]}\")\n",
    "plt.show()"
   ]
  },
  {
   "cell_type": "markdown",
   "metadata": {},
   "source": [
    "## Principal Component Analysis (PCA)"
   ]
  },
  {
   "cell_type": "code",
   "execution_count": null,
   "metadata": {},
   "outputs": [
    {
     "name": "stdout",
     "output_type": "stream",
     "text": [
      "Reduced shape: (1797, 25)\n"
     ]
    },
    {
     "name": "stderr",
     "output_type": "stream",
     "text": [
      "C:\\Users\\Infinity\\AppData\\Local\\Temp\\ipykernel_4532\\2512617870.py:17: RuntimeWarning: invalid value encountered in divide\n",
      "  standardized_data = (data - data_mean) / data_std\n"
     ]
    }
   ],
   "source": [
    "import numpy as np\n",
    "\n",
    "def pca_manual(data, n_components):\n",
    "    \"\"\"\n",
    "    Perform PCA on the given data.\n",
    "    Args:\n",
    "        data (numpy.ndarray): Input data of shape (n_samples, n_features).\n",
    "        n_components (int): Number of principal components to keep.\n",
    "\n",
    "    Returns:\n",
    "        numpy.ndarray: Transformed data of shape (n_samples, n_components).\n",
    "        numpy.ndarray: The selected principal components (eigenvectors).\n",
    "    \"\"\"\n",
    "    # Step 1: Standardize the data\n",
    "    data_mean = np.mean(data, axis=0)\n",
    "    data_std = np.std(data, axis=0)\n",
    "    standardized_data = (data - data_mean) / data_std\n",
    "\n",
    "    # Step 2: Compute covariance matrix\n",
    "    covariance_matrix = np.cov(standardized_data, rowvar=False)\n",
    "\n",
    "    # Step 3: Perform eigen decomposition\n",
    "    eigenvalues, eigenvectors = np.linalg.eigh(covariance_matrix)\n",
    "\n",
    "    # Step 4: Select top n_components eigenvectors (sorted in descending order of eigenvalues)\n",
    "    sorted_indices = np.argsort(eigenvalues)[::-1]\n",
    "    top_eigenvectors = eigenvectors[:, sorted_indices[:n_components]]\n",
    "\n",
    "    # Step 5: Project the data onto the top principal components\n",
    "    reduced_data = np.dot(standardized_data, top_eigenvectors)\n",
    "\n",
    "    return reduced_data, top_eigenvectors\n",
    "\n",
    "# Example usage:\n",
    "# Assuming `train_features` is your input feature matrix\n",
    "n_components = 10  # Choose the number of components you want\n",
    "reduced_train_features, principal_train_components = pca_manual(train_features, n_components)\n",
    "reduced_test_features, principal_test_components = pca_manual(test_features, n_components)\n",
    "\n",
    "# You can use `reduced_train_features` for training your models\n",
    "print(f\"Reduced shape: {reduced_train_features.shape}\")\n",
    "\n",
    "train_features = reduced_train_features\n",
    "test_feautres = reduced_test_features\n"
   ]
  },
  {
   "cell_type": "markdown",
   "metadata": {},
   "source": [
    "## Decsion Tree Implementation"
   ]
  },
  {
   "cell_type": "code",
   "execution_count": 96,
   "metadata": {},
   "outputs": [
    {
     "name": "stdout",
     "output_type": "stream",
     "text": [
      "3.3217753538402386\n"
     ]
    }
   ],
   "source": [
    "def calculate_entropy(labels):\n",
    "    classes, counts = np.unique(labels, return_counts=True)\n",
    "    # print(classes)\n",
    "    # print(counts)\n",
    "    probabilities = counts / len(labels)\n",
    "    # print(probabilities)\n",
    "    return -np.sum(probabilities * np.log2(probabilities))\n",
    "\n",
    "print(calculate_entropy(train_labels))  # Should print the entropy value\n",
    "\n",
    "  "
   ]
  },
  {
   "cell_type": "markdown",
   "metadata": {},
   "source": [
    "### Entropy calculation and splitting"
   ]
  },
  {
   "cell_type": "code",
   "execution_count": 97,
   "metadata": {},
   "outputs": [],
   "source": [
    "def split_dataset(features, labels, feature_idx, threshold):\n",
    "    left_indices = features[:, feature_idx] <= threshold\n",
    "    right_indices = features[:, feature_idx] > threshold\n",
    "    return features[left_indices], labels[left_indices], features[right_indices], labels[right_indices]\n",
    "\n",
    "def calculate_information_gain(parent_entropy, left_labels, right_labels):\n",
    "    left_entropy = calculate_entropy(left_labels)\n",
    "    right_entropy = calculate_entropy(right_labels)\n",
    "    weight_left = len(left_labels) / (len(left_labels) + len(right_labels))\n",
    "    weight_right = 1 - weight_left\n",
    "    return parent_entropy - (weight_left * left_entropy + weight_right * right_entropy)\n",
    "\n",
    "def find_best_split(features, labels, feature_subset=None):\n",
    "    best_gain = -1\n",
    "    best_split = None\n",
    "    parent_entropy = calculate_entropy(labels)\n",
    "    \n",
    "    # Determine the features to evaluate\n",
    "    feature_indices = feature_subset if feature_subset is not None else range(features.shape[1])\n",
    "    \n",
    "    for feature_idx in feature_indices:\n",
    "        thresholds = np.unique(features[:, feature_idx])\n",
    "        for threshold in thresholds:\n",
    "            left_features, left_labels, right_features, right_labels = split_dataset(features, labels, feature_idx, threshold)\n",
    "            if len(left_labels) == 0 or len(right_labels) == 0:\n",
    "                continue\n",
    "            gain = calculate_information_gain(parent_entropy, left_labels, right_labels)\n",
    "            if gain > best_gain:\n",
    "                best_gain = gain\n",
    "                best_split = {\n",
    "                    \"feature_idx\": feature_idx,\n",
    "                    \"threshold\": threshold,\n",
    "                    \"gain\": gain,\n",
    "                    \"left_indices\": left_labels,\n",
    "                    \"right_indices\": right_labels,\n",
    "                }\n",
    "    return best_split\n",
    "\n",
    "\n"
   ]
  },
  {
   "cell_type": "markdown",
   "metadata": {},
   "source": [
    "### Build Decision Tree"
   ]
  },
  {
   "cell_type": "code",
   "execution_count": 98,
   "metadata": {},
   "outputs": [],
   "source": [
    "def build_decision_tree(features, labels, depth=0, max_depth=None, max_features=None):\n",
    "    # Base case: If all labels are the same, return a leaf node\n",
    "    if len(np.unique(labels)) == 1:\n",
    "        return {\"label\": labels[0]}\n",
    "    \n",
    "    # Base case: If no features left to split or max depth is reached\n",
    "    if features.shape[0] == 0 or (max_depth is not None and depth >= max_depth):\n",
    "        majority_label = np.bincount(labels).argmax()\n",
    "        return {\"label\": majority_label}\n",
    "    \n",
    "    # Randomly select a subset of features for this split (Random Forest)\n",
    "    if max_features:\n",
    "        feature_subset = np.random.choice(features.shape[1], size=max_features, replace=False)\n",
    "    else:\n",
    "        feature_subset = None  # Use all features (Decision Tree behavior)\n",
    "    \n",
    "    # Find the best split\n",
    "    best_split = find_best_split(features, labels, feature_subset)\n",
    "    if best_split is None or best_split[\"gain\"] <= 0:\n",
    "        majority_label = np.bincount(labels).argmax()\n",
    "        return {\"label\": majority_label}\n",
    "    \n",
    "    # Create the node\n",
    "    feature_idx = best_split[\"feature_idx\"]\n",
    "    threshold = best_split[\"threshold\"]\n",
    "    \n",
    "    left_features, left_labels, right_features, right_labels = split_dataset(\n",
    "        features, labels, feature_idx, threshold\n",
    "    )\n",
    "    \n",
    "    # Recursively build left and right subtrees\n",
    "    left_subtree = build_decision_tree(left_features, left_labels, depth + 1, max_depth, max_features)\n",
    "    right_subtree = build_decision_tree(right_features, right_labels, depth + 1, max_depth, max_features)\n",
    "    \n",
    "    return {\n",
    "        \"feature_idx\": feature_idx,\n",
    "        \"threshold\": threshold,\n",
    "        \"gain\": best_split[\"gain\"],\n",
    "        \"left\": left_subtree,\n",
    "        \"right\": right_subtree,\n",
    "    }\n"
   ]
  },
  {
   "cell_type": "markdown",
   "metadata": {},
   "source": [
    "### Visualise Decision Tree"
   ]
  },
  {
   "cell_type": "code",
   "execution_count": 99,
   "metadata": {},
   "outputs": [
    {
     "name": "stdout",
     "output_type": "stream",
     "text": [
      "{'label': 3}\n"
     ]
    }
   ],
   "source": [
    "# Build the tree with training data\n",
    "def print_tree(tree, depth=0):\n",
    "    \"\"\"\n",
    "    Recursively print the decision tree.\n",
    "\n",
    "    Args:\n",
    "        tree (dict): The decision tree dictionary structure.\n",
    "        depth (int): Current depth in the tree for indentation.\n",
    "    \"\"\"\n",
    "    indent = \"  \" * depth  # Indentation for better visualization\n",
    "    \n",
    "    # Check if the node is a leaf\n",
    "    if \"label\" in tree:\n",
    "        print(f\"{indent}Leaf: Predict {tree['label']}\")\n",
    "    else:\n",
    "        # Print decision node details\n",
    "        print(f\"{indent}Feature[{tree['feature_idx']}] <= {tree['threshold']}\")\n",
    "        print(f\"{indent}  Gain: {tree['gain']:.4f}\")\n",
    "        print(f\"{indent}Left:\")\n",
    "        print_tree(tree['left'], depth + 1)\n",
    "        print(f\"{indent}Right:\")\n",
    "        print_tree(tree['right'], depth + 1)\n",
    "\n",
    "# Example usage:\n",
    "decision_tree = build_decision_tree(train_features, train_labels, max_depth=10)\n",
    "\n",
    "\n",
    "# Print the tree (for visualization purposes)\n",
    "import pprint\n",
    "pprint.pprint(decision_tree)\n"
   ]
  },
  {
   "cell_type": "markdown",
   "metadata": {},
   "source": [
    "### Predict Using Decision Tree"
   ]
  },
  {
   "cell_type": "code",
   "execution_count": 100,
   "metadata": {},
   "outputs": [
    {
     "name": "stdout",
     "output_type": "stream",
     "text": [
      "Predicted: 3, Actual: 5\n"
     ]
    }
   ],
   "source": [
    "def predict(tree, sample):\n",
    "    # If the node is a leaf, return its label\n",
    "    if \"label\" in tree:\n",
    "        return tree[\"label\"]\n",
    "    \n",
    "    # Decide the path based on the feature and threshold\n",
    "    feature_idx = tree[\"feature_idx\"]\n",
    "    threshold = tree[\"threshold\"]\n",
    "    \n",
    "    if sample[feature_idx] <= threshold:\n",
    "        return predict(tree[\"left\"], sample)\n",
    "    else:\n",
    "        return predict(tree[\"right\"], sample)\n",
    "\n",
    "# Predict on a single sample\n",
    "sample = test_features[7]\n",
    "print(f\"Predicted: {predict(decision_tree, sample)}, Actual: {test_labels[7]}\")\n",
    "\n",
    "# Predict on all test samples\n",
    "predictions = [predict(decision_tree, sample) for sample in test_features]\n"
   ]
  },
  {
   "cell_type": "markdown",
   "metadata": {},
   "source": [
    "### Evaluate the Decsion Tree"
   ]
  },
  {
   "cell_type": "code",
   "execution_count": 101,
   "metadata": {},
   "outputs": [
    {
     "name": "stdout",
     "output_type": "stream",
     "text": [
      "Accuracy: 0.1018\n",
      "\n",
      "Class-wise Metrics:\n",
      "Class 0: Precision=0.0000, Recall=0.0000, F1-Score=0.0000\n",
      "Class 1: Precision=0.0000, Recall=0.0000, F1-Score=0.0000\n",
      "Class 2: Precision=0.0000, Recall=0.0000, F1-Score=0.0000\n",
      "Class 3: Precision=0.1018, Recall=1.0000, F1-Score=0.1847\n",
      "Class 4: Precision=0.0000, Recall=0.0000, F1-Score=0.0000\n",
      "Class 5: Precision=0.0000, Recall=0.0000, F1-Score=0.0000\n",
      "Class 6: Precision=0.0000, Recall=0.0000, F1-Score=0.0000\n",
      "Class 7: Precision=0.0000, Recall=0.0000, F1-Score=0.0000\n",
      "Class 8: Precision=0.0000, Recall=0.0000, F1-Score=0.0000\n",
      "Class 9: Precision=0.0000, Recall=0.0000, F1-Score=0.0000\n"
     ]
    },
    {
     "data": {
      "image/png": "[encoded data removed]",
      "text/plain": [
       "<Figure size 1000x800 with 2 Axes>"
      ]
     },
     "metadata": {},
     "output_type": "display_data"
    }
   ],
   "source": [
    "\n",
    "\n",
    "# Calculate accuracy\n",
    "def calculate_accuracy(true_labels, predictions):\n",
    "    correct = np.sum(true_labels == predictions)\n",
    "    total = len(true_labels)\n",
    "    return correct / total\n",
    "\n",
    "# Build confusion matrix\n",
    "def build_confusion_matrix(true_labels, predictions, n_classes):\n",
    "    conf_matrix = np.zeros((n_classes, n_classes), dtype=int)\n",
    "    for true, pred in zip(true_labels, predictions):\n",
    "        conf_matrix[true, pred] += 1\n",
    "    return conf_matrix\n",
    "\n",
    "# Calculate precision, recall, and F1-score for each class\n",
    "def calculate_metrics(conf_matrix):\n",
    "    \n",
    "    n_classes = conf_matrix.shape[0]\n",
    "    metrics = {\"precision\": [], \"recall\": [], \"f1_score\": []}\n",
    "\n",
    "    for i in range(n_classes):\n",
    "        tp = conf_matrix[i, i]  # True positives\n",
    "        fp = np.sum(conf_matrix[:, i]) - tp  # False positives\n",
    "        fn = np.sum(conf_matrix[i, :]) - tp  # False negatives\n",
    "        \n",
    "        precision = tp / (tp + fp) if (tp + fp) > 0 else 0.0\n",
    "        recall = tp / (tp + fn) if (tp + fn) > 0 else 0.0\n",
    "        f1_score = 2 * (precision * recall) / (precision + recall) if (precision + recall) > 0 else 0.0\n",
    "        \n",
    "        metrics[\"precision\"].append(precision)\n",
    "        metrics[\"recall\"].append(recall)\n",
    "        metrics[\"f1_score\"].append(f1_score)\n",
    "    \n",
    "    return metrics\n",
    "\n",
    "# Evaluate predictions\n",
    "accuracy = calculate_accuracy(test_labels, predictions)\n",
    "conf_matrix = build_confusion_matrix(test_labels, predictions, n_classes=10)\n",
    "metrics = calculate_metrics(conf_matrix)\n",
    "\n",
    "# Print results\n",
    "print(f\"Accuracy: {accuracy:.4f}\")\n",
    "# print(\"\\nConfusion Matrix:\")\n",
    "# print(conf_matrix)\n",
    "\n",
    "print(\"\\nClass-wise Metrics:\")\n",
    "for i in range(10):\n",
    "    print(f\"Class {i}: Precision={metrics['precision'][i]:.4f}, Recall={metrics['recall'][i]:.4f}, F1-Score={metrics['f1_score'][i]:.4f}\")\n",
    "\n",
    "# Optionally plot the confusion matrix\n",
    "plt.figure(figsize=(10, 8), facecolor=\"beige\")\n",
    "sns.heatmap(conf_matrix, annot=True, fmt=\"d\", cmap=\"YlGnBu\", xticklabels=range(10), yticklabels=range(10))\n",
    "plt.title(\"Confusion Matrix (Decision Tree)\")\n",
    "plt.xlabel(\"Predicted Labels\")\n",
    "plt.ylabel(\"True Labels\")\n",
    "plt.show()\n"
   ]
  },
  {
   "cell_type": "markdown",
   "metadata": {},
   "source": [
    "## Random Forest Implementation"
   ]
  },
  {
   "cell_type": "markdown",
   "metadata": {},
   "source": [
    "### Bootstraping Samples"
   ]
  },
  {
   "cell_type": "code",
   "execution_count": 102,
   "metadata": {},
   "outputs": [],
   "source": [
    "\n",
    "def bootstrap_sample(features, labels):\n",
    "    n_samples = features.shape[0]\n",
    "    indices = np.random.choice(n_samples, size=n_samples, replace=True)\n",
    "    return features[indices], labels[indices]"
   ]
  },
  {
   "cell_type": "markdown",
   "metadata": {},
   "source": [
    "### Build Random Forest"
   ]
  },
  {
   "cell_type": "code",
   "execution_count": 103,
   "metadata": {},
   "outputs": [],
   "source": [
    "def build_random_forest(features, labels, n_trees, max_depth=None, max_features=None):\n",
    "    forest = []\n",
    "    for _ in range(n_trees):\n",
    "        # Bootstrap sampling\n",
    "        boot_features, boot_labels = bootstrap_sample(features, labels)\n",
    "        \n",
    "        # Build a decision tree\n",
    "        tree = build_decision_tree(boot_features, boot_labels, max_depth=max_depth, max_features=max_features)\n",
    "        forest.append(tree)\n",
    "    return forest\n"
   ]
  },
  {
   "cell_type": "markdown",
   "metadata": {},
   "source": [
    "### Predict Using Random Forest"
   ]
  },
  {
   "cell_type": "code",
   "execution_count": 104,
   "metadata": {},
   "outputs": [],
   "source": [
    "\n",
    "def random_forest_predict(forest, sample):\n",
    "    tree_predictions = [predict(tree, sample) for tree in forest]\n",
    "    return np.bincount(tree_predictions).argmax()\n",
    "\n",
    "def random_forest_predict_all(forest, features):\n",
    "    return [random_forest_predict(forest, sample) for sample in features]\n",
    "\n",
    "from math import sqrt\n",
    "\n",
    "# Train Random Forest\n",
    "n_trees = 10\n",
    "max_features = int(sqrt(train_features.shape[1]))  # sqrt(total_features)\n",
    "random_forest = build_random_forest(train_features, train_labels, n_trees, max_depth=10, max_features=max_features)\n",
    "\n",
    "# Predict on test data\n",
    "rf_predictions = random_forest_predict_all(random_forest, test_features)\n",
    "\n"
   ]
  },
  {
   "cell_type": "markdown",
   "metadata": {},
   "source": [
    "### Evaluating the Random Forest"
   ]
  },
  {
   "cell_type": "code",
   "execution_count": null,
   "metadata": {},
   "outputs": [
    {
     "name": "stdout",
     "output_type": "stream",
     "text": [
      "Accuracy: 0.0984\n",
      "\n",
      "Class-wise Metrics:\n",
      "Class 0: Precision=0.0984, Recall=1.0000, F1-Score=0.1791\n",
      "Class 1: Precision=0.0000, Recall=0.0000, F1-Score=0.0000\n",
      "Class 2: Precision=0.0000, Recall=0.0000, F1-Score=0.0000\n",
      "Class 3: Precision=0.0000, Recall=0.0000, F1-Score=0.0000\n",
      "Class 4: Precision=0.0000, Recall=0.0000, F1-Score=0.0000\n",
      "Class 5: Precision=0.0000, Recall=0.0000, F1-Score=0.0000\n",
      "Class 6: Precision=0.0000, Recall=0.0000, F1-Score=0.0000\n",
      "Class 7: Precision=0.0000, Recall=0.0000, F1-Score=0.0000\n",
      "Class 8: Precision=0.0000, Recall=0.0000, F1-Score=0.0000\n",
      "Class 9: Precision=0.0000, Recall=0.0000, F1-Score=0.0000\n"
     ]
    },
    {
     "data": {
      "image/png": "[encoded data removed]",
      "text/plain": [
       "<Figure size 1000x800 with 2 Axes>"
      ]
     },
     "metadata": {},
     "output_type": "display_data"
    }
   ],
   "source": [
    "# Step 1: Predict on the test data using the random forest\n",
    "rf_predictions = random_forest_predict_all(random_forest, test_features)\n",
    "\n",
    "# Step 2: Calculate Accuracy\n",
    "accuracy = calculate_accuracy(test_labels, rf_predictions)\n",
    "print(f\"Accuracy: {accuracy:.4f}\")\n",
    "\n",
    "# Step 3: Build the Confusion Matrix\n",
    "conf_matrix = build_confusion_matrix(test_labels, rf_predictions, n_classes=10)\n",
    "# print(\"\\nConfusion Matrix:\")\n",
    "# print(conf_matrix)\n",
    "\n",
    "# Step 4: Calculate precision, recall, and F1-score for each class\n",
    "metrics = calculate_metrics(conf_matrix)\n",
    "\n",
    "# Step 5: Print the metrics for each class\n",
    "print(\"\\nClass-wise Metrics:\")\n",
    "for i in range(10):  # For each class (0 to 9)\n",
    "    print(f\"Class {i}: Precision={metrics['precision'][i]:.4f}, Recall={metrics['recall'][i]:.4f}, F1-Score={metrics['f1_score'][i]:.4f}\")\n",
    "\n",
    "# Optionally: Plot the confusion matrix as a heatmap\n",
    "plt.figure(figsize=(10, 8), facecolor=\"beige\")\n",
    "sns.heatmap(conf_matrix, annot=True, fmt=\"d\", cmap=\"YlGnBu\", xticklabels=range(10), yticklabels=range(10))\n",
    "plt.title(\"Confusion Matrix (Random Forest)\")\n",
    "plt.xlabel(\"Predicted Labels\")\n",
    "plt.ylabel(\"True Labels\")\n",
    "plt.show()\n"
   ]
  }
 ],
 "metadata": {
  "kernelspec": {
   "display_name": "env",
   "language": "python",
   "name": "python3"
  },
  "language_info": {
   "codemirror_mode": {
    "name": "ipython",
    "version": 3
   },
   "file_extension": ".py",
   "mimetype": "text/x-python",
   "name": "python",
   "nbconvert_exporter": "python",
   "pygments_lexer": "ipython3",
   "version": "3.12.3"
  }
 },
 "nbformat": 4,
 "nbformat_minor": 2
}
