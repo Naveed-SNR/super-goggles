{
 "cells": [
  {
   "cell_type": "code",
   "execution_count": 1,
   "id": "8e8adf93-7c40-43fb-b4c3-67f36afca560",
   "metadata": {},
   "outputs": [
    {
     "name": "stdout",
     "output_type": "stream",
     "text": [
      "hello, world\n"
     ]
    }
   ],
   "source": [
    "print (\"hello, world\")"
   ]
  },
  {
   "cell_type": "markdown",
   "id": "1c553a50-03ea-47f8-9708-31c3ca77641d",
   "metadata": {},
   "source": [
    "Hello,"
   ]
  },
  {
   "cell_type": "code",
   "execution_count": 3,
   "id": "e3e51f59-5151-4454-bb16-2c768db21f4f",
   "metadata": {},
   "outputs": [],
   "source": [
    "import sklearn\n",
    "import pandas as pd\n",
    "import numpy as np\n",
    "import matplotlib as plt"
   ]
  },
  {
   "cell_type": "code",
   "execution_count": null,
   "id": "e97c9cc5-3a0c-4daf-995d-981c78977965",
   "metadata": {},
   "outputs": [],
   "source": []
  }
 ],
 "metadata": {
  "kernelspec": {
   "display_name": "Python 3 (ipykernel)",
   "language": "python",
   "name": "python3"
  },
  "language_info": {
   "codemirror_mode": {
    "name": "ipython",
    "version": 3
   },
   "file_extension": ".py",
   "mimetype": "text/x-python",
   "name": "python",
   "nbconvert_exporter": "python",
   "pygments_lexer": "ipython3",
   "version": "3.12.3"
  }
 },
 "nbformat": 4,
 "nbformat_minor": 5
}
