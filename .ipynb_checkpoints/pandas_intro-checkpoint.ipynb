{
 "cells": [
  {
   "cell_type": "code",
   "execution_count": 1,
   "id": "2f8d6927-17a9-45f2-aab2-283cd8ed8b69",
   "metadata": {},
   "outputs": [],
   "source": [
    "import pandas as pd"
   ]
  },
  {
   "cell_type": "markdown",
   "id": "da065f63-d7a4-458e-8ffc-507ce900be41",
   "metadata": {},
   "source": [
    "### There are two main data types in pandas\n",
    "   #### &nbsp;&nbsp;Series\n",
    "        - One Dimensional\n",
    "   #### &nbsp;&nbsp;DataFrame\n",
    "        - Two Dimensional"
   ]
  },
  {
   "cell_type": "code",
   "execution_count": 2,
   "id": "2b6ff4e1-028d-4b50-9ea1-e023f4913967",
   "metadata": {},
   "outputs": [],
   "source": [
    "#Series example\n",
    "alphabet = pd.Series([\"a\", \"b\", \"c\"])"
   ]
  },
  {
   "cell_type": "code",
   "execution_count": 3,
   "id": "800e28a9-c1ba-4803-b4ff-c27fc67ce1fd",
   "metadata": {},
   "outputs": [
    {
     "ename": "NameError",
     "evalue": "name 'series' is not defined",
     "output_type": "error",
     "traceback": [
      "\u001b[1;31m---------------------------------------------------------------------------\u001b[0m",
      "\u001b[1;31mNameError\u001b[0m                                 Traceback (most recent call last)",
      "Cell \u001b[1;32mIn[3], line 1\u001b[0m\n\u001b[1;32m----> 1\u001b[0m series\n",
      "\u001b[1;31mNameError\u001b[0m: name 'series' is not defined"
     ]
    }
   ],
   "source": [
    "series"
   ]
  },
  {
   "cell_type": "code",
   "execution_count": null,
   "id": "e0a2c898-7513-42a7-aaf7-456eb7b8a4c4",
   "metadata": {},
   "outputs": [],
   "source": [
    "#Series example\n",
    "colors = pd.Series([\"red\", \"green\", \"blue\"])"
   ]
  },
  {
   "cell_type": "code",
   "execution_count": null,
   "id": "006a70ba-2b26-4e84-9816-14474600e7bb",
   "metadata": {},
   "outputs": [],
   "source": [
    "#DataFrame example\n",
    "\n",
    "#This DataFrame is created using two series\n",
    "data = pd.DataFrame({\"Alpha\": alphabet, \"Color\": colors})"
   ]
  },
  {
   "cell_type": "code",
   "execution_count": null,
   "id": "4bb77fe5-d0dc-4ae5-be72-cf9be7db8b13",
   "metadata": {},
   "outputs": [],
   "source": [
    "data"
   ]
  },
  {
   "cell_type": "code",
   "execution_count": 4,
   "id": "8a786194-a641-4010-9e2a-4fa86c577091",
   "metadata": {},
   "outputs": [
    {
     "data": {
      "text/html": [
       "<div>\n",
       "<style scoped>\n",
       "    .dataframe tbody tr th:only-of-type {\n",
       "        vertical-align: middle;\n",
       "    }\n",
       "\n",
       "    .dataframe tbody tr th {\n",
       "        vertical-align: top;\n",
       "    }\n",
       "\n",
       "    .dataframe thead th {\n",
       "        text-align: right;\n",
       "    }\n",
       "</style>\n",
       "<table border=\"1\" class=\"dataframe\">\n",
       "  <thead>\n",
       "    <tr style=\"text-align: right;\">\n",
       "      <th></th>\n",
       "      <th>Index</th>\n",
       "      <th>Customer Id</th>\n",
       "      <th>First Name</th>\n",
       "      <th>Country</th>\n",
       "      <th>Phone 1</th>\n",
       "    </tr>\n",
       "  </thead>\n",
       "  <tbody>\n",
       "    <tr>\n",
       "      <th>0</th>\n",
       "      <td>1</td>\n",
       "      <td>DD37Cf93aecA6Dc</td>\n",
       "      <td>Sheryl</td>\n",
       "      <td>Chile</td>\n",
       "      <td>229.077.5154</td>\n",
       "    </tr>\n",
       "    <tr>\n",
       "      <th>1</th>\n",
       "      <td>2</td>\n",
       "      <td>1Ef7b82A4CAAD10</td>\n",
       "      <td>Preston</td>\n",
       "      <td>Djibouti</td>\n",
       "      <td>5153435776</td>\n",
       "    </tr>\n",
       "    <tr>\n",
       "      <th>2</th>\n",
       "      <td>3</td>\n",
       "      <td>6F94879bDAfE5a6</td>\n",
       "      <td>Roy</td>\n",
       "      <td>Antigua and Barbuda</td>\n",
       "      <td>-1199</td>\n",
       "    </tr>\n",
       "    <tr>\n",
       "      <th>3</th>\n",
       "      <td>4</td>\n",
       "      <td>5Cef8BFA16c5e3c</td>\n",
       "      <td>Linda</td>\n",
       "      <td>Dominican Republic</td>\n",
       "      <td>001-808-617-6467x12895</td>\n",
       "    </tr>\n",
       "    <tr>\n",
       "      <th>4</th>\n",
       "      <td>5</td>\n",
       "      <td>053d585Ab6b3159</td>\n",
       "      <td>Joanna</td>\n",
       "      <td>Slovakia (Slovak Republic)</td>\n",
       "      <td>001-234-203-0635x76146</td>\n",
       "    </tr>\n",
       "    <tr>\n",
       "      <th>5</th>\n",
       "      <td>6</td>\n",
       "      <td>2d08FB17EE273F4</td>\n",
       "      <td>Aimee</td>\n",
       "      <td>Bosnia and Herzegovina</td>\n",
       "      <td>(283)437-3886x88321</td>\n",
       "    </tr>\n",
       "    <tr>\n",
       "      <th>6</th>\n",
       "      <td>7</td>\n",
       "      <td>EA4d384DfDbBf77</td>\n",
       "      <td>Darren</td>\n",
       "      <td>Pitcairn Islands</td>\n",
       "      <td>(496)452-6181x3291</td>\n",
       "    </tr>\n",
       "    <tr>\n",
       "      <th>7</th>\n",
       "      <td>8</td>\n",
       "      <td>0e04AFde9f225dE</td>\n",
       "      <td>Brett</td>\n",
       "      <td>Bulgaria</td>\n",
       "      <td>001-583-352-7197x297</td>\n",
       "    </tr>\n",
       "    <tr>\n",
       "      <th>8</th>\n",
       "      <td>9</td>\n",
       "      <td>C2dE4dEEc489ae0</td>\n",
       "      <td>Sheryl</td>\n",
       "      <td>Cyprus</td>\n",
       "      <td>854-138-4911x5772</td>\n",
       "    </tr>\n",
       "    <tr>\n",
       "      <th>9</th>\n",
       "      <td>10</td>\n",
       "      <td>8C2811a503C7c5a</td>\n",
       "      <td>Michelle</td>\n",
       "      <td>Timor-Leste</td>\n",
       "      <td>739.218.2516x459</td>\n",
       "    </tr>\n",
       "  </tbody>\n",
       "</table>\n",
       "</div>"
      ],
      "text/plain": [
       "   Index      Customer Id First Name                     Country  \\\n",
       "0      1  DD37Cf93aecA6Dc     Sheryl                       Chile   \n",
       "1      2  1Ef7b82A4CAAD10    Preston                    Djibouti   \n",
       "2      3  6F94879bDAfE5a6        Roy         Antigua and Barbuda   \n",
       "3      4  5Cef8BFA16c5e3c      Linda          Dominican Republic   \n",
       "4      5  053d585Ab6b3159     Joanna  Slovakia (Slovak Republic)   \n",
       "5      6  2d08FB17EE273F4      Aimee      Bosnia and Herzegovina   \n",
       "6      7  EA4d384DfDbBf77     Darren            Pitcairn Islands   \n",
       "7      8  0e04AFde9f225dE      Brett                    Bulgaria   \n",
       "8      9  C2dE4dEEc489ae0     Sheryl                      Cyprus   \n",
       "9     10  8C2811a503C7c5a   Michelle                 Timor-Leste   \n",
       "\n",
       "                  Phone 1  \n",
       "0            229.077.5154  \n",
       "1              5153435776  \n",
       "2                   -1199  \n",
       "3  001-808-617-6467x12895  \n",
       "4  001-234-203-0635x76146  \n",
       "5     (283)437-3886x88321  \n",
       "6      (496)452-6181x3291  \n",
       "7    001-583-352-7197x297  \n",
       "8       854-138-4911x5772  \n",
       "9        739.218.2516x459  "
      ]
     },
     "execution_count": 4,
     "metadata": {},
     "output_type": "execute_result"
    }
   ],
   "source": [
    "#Import data\n",
    "imported_data = pd.read_csv(\"db.csv\")\n",
    "imported_data"
   ]
  },
  {
   "cell_type": "markdown",
   "id": "26f32560-99fc-4a72-aa20-235b46fe67ca",
   "metadata": {},
   "source": [
    "## Describe Data\n",
    "\n",
    "\n",
    "Note: Attributes are like functions but instead of executing some instructions, these store some meta information about a datatype. Unlike functions, they are not followed by brackets '()'. "
   ]
  },
  {
   "cell_type": "code",
   "execution_count": 5,
   "id": "be002bcd-2b68-4d00-bbbc-8fd2dbcc0f70",
   "metadata": {},
   "outputs": [
    {
     "data": {
      "text/plain": [
       "RangeIndex(start=0, stop=10, step=1)"
      ]
     },
     "execution_count": 5,
     "metadata": {},
     "output_type": "execute_result"
    }
   ],
   "source": [
    "#Attributes \n",
    "imported_data.dtypes\n",
    "imported_data.columns\n",
    "\n",
    "data_columns = imported_data.columns\n",
    "imported_data.index\n",
    "\n",
    "\n",
    "#Fuction\n",
    "#imported_data.to_csv(\"\")"
   ]
  },
  {
   "cell_type": "code",
   "execution_count": 6,
   "id": "dd894937-db43-4d4f-a345-b196f0e43a13",
   "metadata": {},
   "outputs": [
    {
     "data": {
      "text/html": [
       "<div>\n",
       "<style scoped>\n",
       "    .dataframe tbody tr th:only-of-type {\n",
       "        vertical-align: middle;\n",
       "    }\n",
       "\n",
       "    .dataframe tbody tr th {\n",
       "        vertical-align: top;\n",
       "    }\n",
       "\n",
       "    .dataframe thead th {\n",
       "        text-align: right;\n",
       "    }\n",
       "</style>\n",
       "<table border=\"1\" class=\"dataframe\">\n",
       "  <thead>\n",
       "    <tr style=\"text-align: right;\">\n",
       "      <th></th>\n",
       "      <th>Index</th>\n",
       "    </tr>\n",
       "  </thead>\n",
       "  <tbody>\n",
       "    <tr>\n",
       "      <th>count</th>\n",
       "      <td>10.00000</td>\n",
       "    </tr>\n",
       "    <tr>\n",
       "      <th>mean</th>\n",
       "      <td>5.50000</td>\n",
       "    </tr>\n",
       "    <tr>\n",
       "      <th>std</th>\n",
       "      <td>3.02765</td>\n",
       "    </tr>\n",
       "    <tr>\n",
       "      <th>min</th>\n",
       "      <td>1.00000</td>\n",
       "    </tr>\n",
       "    <tr>\n",
       "      <th>25%</th>\n",
       "      <td>3.25000</td>\n",
       "    </tr>\n",
       "    <tr>\n",
       "      <th>50%</th>\n",
       "      <td>5.50000</td>\n",
       "    </tr>\n",
       "    <tr>\n",
       "      <th>75%</th>\n",
       "      <td>7.75000</td>\n",
       "    </tr>\n",
       "    <tr>\n",
       "      <th>max</th>\n",
       "      <td>10.00000</td>\n",
       "    </tr>\n",
       "  </tbody>\n",
       "</table>\n",
       "</div>"
      ],
      "text/plain": [
       "          Index\n",
       "count  10.00000\n",
       "mean    5.50000\n",
       "std     3.02765\n",
       "min     1.00000\n",
       "25%     3.25000\n",
       "50%     5.50000\n",
       "75%     7.75000\n",
       "max    10.00000"
      ]
     },
     "execution_count": 6,
     "metadata": {},
     "output_type": "execute_result"
    }
   ],
   "source": [
    "imported_data.describe()"
   ]
  },
  {
   "cell_type": "code",
   "execution_count": 7,
   "id": "37e9c50e-d2c9-437f-a89e-c3d6cca6dcad",
   "metadata": {},
   "outputs": [
    {
     "data": {
      "text/plain": [
       "10"
      ]
     },
     "execution_count": 7,
     "metadata": {},
     "output_type": "execute_result"
    }
   ],
   "source": [
    "len(imported_data)"
   ]
  },
  {
   "cell_type": "markdown",
   "id": "8aaa1d73-35bb-4bb5-af9e-3fea3f821f73",
   "metadata": {},
   "source": [
    "## Viewing and selecting data"
   ]
  },
  {
   "cell_type": "code",
   "execution_count": 10,
   "id": "495af5c5-50e9-4cc7-bdac-71ecf858dc26",
   "metadata": {},
   "outputs": [
    {
     "data": {
      "text/html": [
       "<div>\n",
       "<style scoped>\n",
       "    .dataframe tbody tr th:only-of-type {\n",
       "        vertical-align: middle;\n",
       "    }\n",
       "\n",
       "    .dataframe tbody tr th {\n",
       "        vertical-align: top;\n",
       "    }\n",
       "\n",
       "    .dataframe thead th {\n",
       "        text-align: right;\n",
       "    }\n",
       "</style>\n",
       "<table border=\"1\" class=\"dataframe\">\n",
       "  <thead>\n",
       "    <tr style=\"text-align: right;\">\n",
       "      <th></th>\n",
       "      <th>Index</th>\n",
       "      <th>Customer Id</th>\n",
       "      <th>First Name</th>\n",
       "      <th>Country</th>\n",
       "      <th>Phone 1</th>\n",
       "    </tr>\n",
       "  </thead>\n",
       "  <tbody>\n",
       "    <tr>\n",
       "      <th>0</th>\n",
       "      <td>1</td>\n",
       "      <td>DD37Cf93aecA6Dc</td>\n",
       "      <td>Sheryl</td>\n",
       "      <td>Chile</td>\n",
       "      <td>229.077.5154</td>\n",
       "    </tr>\n",
       "    <tr>\n",
       "      <th>1</th>\n",
       "      <td>2</td>\n",
       "      <td>1Ef7b82A4CAAD10</td>\n",
       "      <td>Preston</td>\n",
       "      <td>Djibouti</td>\n",
       "      <td>5153435776</td>\n",
       "    </tr>\n",
       "    <tr>\n",
       "      <th>2</th>\n",
       "      <td>3</td>\n",
       "      <td>6F94879bDAfE5a6</td>\n",
       "      <td>Roy</td>\n",
       "      <td>Antigua and Barbuda</td>\n",
       "      <td>-1199</td>\n",
       "    </tr>\n",
       "  </tbody>\n",
       "</table>\n",
       "</div>"
      ],
      "text/plain": [
       "   Index      Customer Id First Name              Country       Phone 1\n",
       "0      1  DD37Cf93aecA6Dc     Sheryl                Chile  229.077.5154\n",
       "1      2  1Ef7b82A4CAAD10    Preston             Djibouti    5153435776\n",
       "2      3  6F94879bDAfE5a6        Roy  Antigua and Barbuda         -1199"
      ]
     },
     "execution_count": 10,
     "metadata": {},
     "output_type": "execute_result"
    }
   ],
   "source": [
    "imported_data.head(3)"
   ]
  },
  {
   "cell_type": "code",
   "execution_count": 11,
   "id": "94d38b65-f5d5-4639-a6a8-10e161b5b5f0",
   "metadata": {},
   "outputs": [
    {
     "data": {
      "text/html": [
       "<div>\n",
       "<style scoped>\n",
       "    .dataframe tbody tr th:only-of-type {\n",
       "        vertical-align: middle;\n",
       "    }\n",
       "\n",
       "    .dataframe tbody tr th {\n",
       "        vertical-align: top;\n",
       "    }\n",
       "\n",
       "    .dataframe thead th {\n",
       "        text-align: right;\n",
       "    }\n",
       "</style>\n",
       "<table border=\"1\" class=\"dataframe\">\n",
       "  <thead>\n",
       "    <tr style=\"text-align: right;\">\n",
       "      <th></th>\n",
       "      <th>Index</th>\n",
       "      <th>Customer Id</th>\n",
       "      <th>First Name</th>\n",
       "      <th>Country</th>\n",
       "      <th>Phone 1</th>\n",
       "    </tr>\n",
       "  </thead>\n",
       "  <tbody>\n",
       "    <tr>\n",
       "      <th>7</th>\n",
       "      <td>8</td>\n",
       "      <td>0e04AFde9f225dE</td>\n",
       "      <td>Brett</td>\n",
       "      <td>Bulgaria</td>\n",
       "      <td>001-583-352-7197x297</td>\n",
       "    </tr>\n",
       "    <tr>\n",
       "      <th>8</th>\n",
       "      <td>9</td>\n",
       "      <td>C2dE4dEEc489ae0</td>\n",
       "      <td>Sheryl</td>\n",
       "      <td>Cyprus</td>\n",
       "      <td>854-138-4911x5772</td>\n",
       "    </tr>\n",
       "    <tr>\n",
       "      <th>9</th>\n",
       "      <td>10</td>\n",
       "      <td>8C2811a503C7c5a</td>\n",
       "      <td>Michelle</td>\n",
       "      <td>Timor-Leste</td>\n",
       "      <td>739.218.2516x459</td>\n",
       "    </tr>\n",
       "  </tbody>\n",
       "</table>\n",
       "</div>"
      ],
      "text/plain": [
       "   Index      Customer Id First Name      Country               Phone 1\n",
       "7      8  0e04AFde9f225dE      Brett     Bulgaria  001-583-352-7197x297\n",
       "8      9  C2dE4dEEc489ae0     Sheryl       Cyprus     854-138-4911x5772\n",
       "9     10  8C2811a503C7c5a   Michelle  Timor-Leste      739.218.2516x459"
      ]
     },
     "execution_count": 11,
     "metadata": {},
     "output_type": "execute_result"
    }
   ],
   "source": [
    "imported_data.tail(3)"
   ]
  },
  {
   "cell_type": "code",
   "execution_count": 19,
   "id": "88c6d132-e0b1-4672-8be2-97987fd6eab8",
   "metadata": {},
   "outputs": [],
   "source": [
    "# .loc & .iloc\n",
    "animals = pd.Series([\"cat\", \"dog\", \"bird\", \"panda\", \"snake\"], index=[0, 3, 9, 8, 3])"
   ]
  },
  {
   "cell_type": "code",
   "execution_count": 20,
   "id": "046ce631-5312-4a8a-8b32-f9cb545de859",
   "metadata": {},
   "outputs": [
    {
     "data": {
      "text/plain": [
       "0      cat\n",
       "3      dog\n",
       "9     bird\n",
       "8    panda\n",
       "3    snake\n",
       "dtype: object"
      ]
     },
     "execution_count": 20,
     "metadata": {},
     "output_type": "execute_result"
    }
   ],
   "source": [
    "animals"
   ]
  },
  {
   "cell_type": "code",
   "execution_count": 22,
   "id": "28a5e85f-b9fb-49d5-a760-5329b62374f7",
   "metadata": {},
   "outputs": [
    {
     "data": {
      "text/plain": [
       "3      dog\n",
       "3    snake\n",
       "dtype: object"
      ]
     },
     "execution_count": 22,
     "metadata": {},
     "output_type": "execute_result"
    }
   ],
   "source": [
    "# .loc --> Index in the series\n",
    "animals.loc[3]"
   ]
  },
  {
   "cell_type": "code",
   "execution_count": 23,
   "id": "8d4935d7-c88e-4f2d-a930-2bfea233083a",
   "metadata": {},
   "outputs": [
    {
     "data": {
      "text/plain": [
       "'bird'"
      ]
     },
     "execution_count": 23,
     "metadata": {},
     "output_type": "execute_result"
    }
   ],
   "source": [
    "animals.loc[9]\n"
   ]
  },
  {
   "cell_type": "code",
   "execution_count": 24,
   "id": "8b800e13-df33-4044-9ea2-d1344e399801",
   "metadata": {},
   "outputs": [
    {
     "data": {
      "text/plain": [
       "Index                               4\n",
       "Customer Id           5Cef8BFA16c5e3c\n",
       "First Name                      Linda\n",
       "Country            Dominican Republic\n",
       "Phone 1        001-808-617-6467x12895\n",
       "Name: 3, dtype: object"
      ]
     },
     "execution_count": 24,
     "metadata": {},
     "output_type": "execute_result"
    }
   ],
   "source": [
    "imported_data.loc[3]"
   ]
  },
  {
   "cell_type": "code",
   "execution_count": 25,
   "id": "c421ecff-2b3c-4efc-8edb-ee9d30099c70",
   "metadata": {},
   "outputs": [
    {
     "data": {
      "text/plain": [
       "'panda'"
      ]
     },
     "execution_count": 25,
     "metadata": {},
     "output_type": "execute_result"
    }
   ],
   "source": [
    "# .iloc --> Position in the series\n",
    "animals.iloc[3]"
   ]
  },
  {
   "cell_type": "code",
   "execution_count": null,
   "id": "b90f2600-faa7-45a0-b747-18f16e312919",
   "metadata": {},
   "outputs": [],
   "source": []
  }
 ],
 "metadata": {
  "kernelspec": {
   "display_name": "Python 3 (ipykernel)",
   "language": "python",
   "name": "python3"
  },
  "language_info": {
   "codemirror_mode": {
    "name": "ipython",
    "version": 3
   },
   "file_extension": ".py",
   "mimetype": "text/x-python",
   "name": "python",
   "nbconvert_exporter": "python",
   "pygments_lexer": "ipython3",
   "version": "3.12.3"
  }
 },
 "nbformat": 4,
 "nbformat_minor": 5
}
